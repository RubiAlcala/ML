{
  "nbformat": 4,
  "nbformat_minor": 0,
  "metadata": {
    "colab": {
      "provenance": []
    },
    "kernelspec": {
      "name": "python3",
      "display_name": "Python 3"
    },
    "language_info": {
      "name": "python"
    }
  },
  "cells": [
    {
      "cell_type": "code",
      "execution_count": 8,
      "metadata": {
        "id": "n7ZvbNlgsu8K"
      },
      "outputs": [],
      "source": [
        "import requests\n"
      ]
    },
    {
      "cell_type": "code",
      "source": [
        "# URL de la API de GitHub\n",
        "url = 'https://api.github.com/repos/python/cpython'\n"
      ],
      "metadata": {
        "id": "-786JXvUtuNr"
      },
      "execution_count": 2,
      "outputs": []
    },
    {
      "cell_type": "code",
      "source": [
        "# Realizar la solicitud a la API\n",
        "response = requests.get(url)\n",
        "data = response.json()"
      ],
      "metadata": {
        "id": "i_-AYubVtwHA"
      },
      "execution_count": 12,
      "outputs": []
    },
    {
      "cell_type": "code",
      "source": [
        "print(response)"
      ],
      "metadata": {
        "colab": {
          "base_uri": "https://localhost:8080/"
        },
        "id": "wDKBjkC348c7",
        "outputId": "4599618b-5562-4848-b068-dca5ffe2b707"
      },
      "execution_count": 13,
      "outputs": [
        {
          "output_type": "stream",
          "name": "stdout",
          "text": [
            "<Response [200]>\n"
          ]
        }
      ]
    },
    {
      "cell_type": "code",
      "source": [
        "print(data)"
      ],
      "metadata": {
        "colab": {
          "base_uri": "https://localhost:8080/"
        },
        "id": "6d-7FsdI4_TF",
        "outputId": "71ad6a52-0a8d-49b0-d6c3-5fd4c916dd0b"
      },
      "execution_count": 14,
      "outputs": [
        {
          "output_type": "stream",
          "name": "stdout",
          "text": [
            "{'id': 81598961, 'node_id': 'MDEwOlJlcG9zaXRvcnk4MTU5ODk2MQ==', 'name': 'cpython', 'full_name': 'python/cpython', 'private': False, 'owner': {'login': 'python', 'id': 1525981, 'node_id': 'MDEyOk9yZ2FuaXphdGlvbjE1MjU5ODE=', 'avatar_url': 'https://avatars.githubusercontent.com/u/1525981?v=4', 'gravatar_id': '', 'url': 'https://api.github.com/users/python', 'html_url': 'https://github.com/python', 'followers_url': 'https://api.github.com/users/python/followers', 'following_url': 'https://api.github.com/users/python/following{/other_user}', 'gists_url': 'https://api.github.com/users/python/gists{/gist_id}', 'starred_url': 'https://api.github.com/users/python/starred{/owner}{/repo}', 'subscriptions_url': 'https://api.github.com/users/python/subscriptions', 'organizations_url': 'https://api.github.com/users/python/orgs', 'repos_url': 'https://api.github.com/users/python/repos', 'events_url': 'https://api.github.com/users/python/events{/privacy}', 'received_events_url': 'https://api.github.com/users/python/received_events', 'type': 'Organization', 'site_admin': False}, 'html_url': 'https://github.com/python/cpython', 'description': 'The Python programming language', 'fork': False, 'url': 'https://api.github.com/repos/python/cpython', 'forks_url': 'https://api.github.com/repos/python/cpython/forks', 'keys_url': 'https://api.github.com/repos/python/cpython/keys{/key_id}', 'collaborators_url': 'https://api.github.com/repos/python/cpython/collaborators{/collaborator}', 'teams_url': 'https://api.github.com/repos/python/cpython/teams', 'hooks_url': 'https://api.github.com/repos/python/cpython/hooks', 'issue_events_url': 'https://api.github.com/repos/python/cpython/issues/events{/number}', 'events_url': 'https://api.github.com/repos/python/cpython/events', 'assignees_url': 'https://api.github.com/repos/python/cpython/assignees{/user}', 'branches_url': 'https://api.github.com/repos/python/cpython/branches{/branch}', 'tags_url': 'https://api.github.com/repos/python/cpython/tags', 'blobs_url': 'https://api.github.com/repos/python/cpython/git/blobs{/sha}', 'git_tags_url': 'https://api.github.com/repos/python/cpython/git/tags{/sha}', 'git_refs_url': 'https://api.github.com/repos/python/cpython/git/refs{/sha}', 'trees_url': 'https://api.github.com/repos/python/cpython/git/trees{/sha}', 'statuses_url': 'https://api.github.com/repos/python/cpython/statuses/{sha}', 'languages_url': 'https://api.github.com/repos/python/cpython/languages', 'stargazers_url': 'https://api.github.com/repos/python/cpython/stargazers', 'contributors_url': 'https://api.github.com/repos/python/cpython/contributors', 'subscribers_url': 'https://api.github.com/repos/python/cpython/subscribers', 'subscription_url': 'https://api.github.com/repos/python/cpython/subscription', 'commits_url': 'https://api.github.com/repos/python/cpython/commits{/sha}', 'git_commits_url': 'https://api.github.com/repos/python/cpython/git/commits{/sha}', 'comments_url': 'https://api.github.com/repos/python/cpython/comments{/number}', 'issue_comment_url': 'https://api.github.com/repos/python/cpython/issues/comments{/number}', 'contents_url': 'https://api.github.com/repos/python/cpython/contents/{+path}', 'compare_url': 'https://api.github.com/repos/python/cpython/compare/{base}...{head}', 'merges_url': 'https://api.github.com/repos/python/cpython/merges', 'archive_url': 'https://api.github.com/repos/python/cpython/{archive_format}{/ref}', 'downloads_url': 'https://api.github.com/repos/python/cpython/downloads', 'issues_url': 'https://api.github.com/repos/python/cpython/issues{/number}', 'pulls_url': 'https://api.github.com/repos/python/cpython/pulls{/number}', 'milestones_url': 'https://api.github.com/repos/python/cpython/milestones{/number}', 'notifications_url': 'https://api.github.com/repos/python/cpython/notifications{?since,all,participating}', 'labels_url': 'https://api.github.com/repos/python/cpython/labels{/name}', 'releases_url': 'https://api.github.com/repos/python/cpython/releases{/id}', 'deployments_url': 'https://api.github.com/repos/python/cpython/deployments', 'created_at': '2017-02-10T19:23:51Z', 'updated_at': '2024-06-10T19:57:47Z', 'pushed_at': '2024-06-10T20:18:11Z', 'git_url': 'git://github.com/python/cpython.git', 'ssh_url': 'git@github.com:python/cpython.git', 'clone_url': 'https://github.com/python/cpython.git', 'svn_url': 'https://github.com/python/cpython', 'homepage': 'https://www.python.org/', 'size': 606911, 'stargazers_count': 60421, 'watchers_count': 60421, 'language': 'Python', 'has_issues': True, 'has_projects': True, 'has_downloads': True, 'has_wiki': False, 'has_pages': False, 'has_discussions': False, 'forks_count': 29210, 'mirror_url': None, 'archived': False, 'disabled': False, 'open_issues_count': 8574, 'license': {'key': 'other', 'name': 'Other', 'spdx_id': 'NOASSERTION', 'url': None, 'node_id': 'MDc6TGljZW5zZTA='}, 'allow_forking': True, 'is_template': False, 'web_commit_signoff_required': False, 'topics': [], 'visibility': 'public', 'forks': 29210, 'open_issues': 8574, 'watchers': 60421, 'default_branch': 'main', 'temp_clone_token': None, 'custom_properties': {}, 'organization': {'login': 'python', 'id': 1525981, 'node_id': 'MDEyOk9yZ2FuaXphdGlvbjE1MjU5ODE=', 'avatar_url': 'https://avatars.githubusercontent.com/u/1525981?v=4', 'gravatar_id': '', 'url': 'https://api.github.com/users/python', 'html_url': 'https://github.com/python', 'followers_url': 'https://api.github.com/users/python/followers', 'following_url': 'https://api.github.com/users/python/following{/other_user}', 'gists_url': 'https://api.github.com/users/python/gists{/gist_id}', 'starred_url': 'https://api.github.com/users/python/starred{/owner}{/repo}', 'subscriptions_url': 'https://api.github.com/users/python/subscriptions', 'organizations_url': 'https://api.github.com/users/python/orgs', 'repos_url': 'https://api.github.com/users/python/repos', 'events_url': 'https://api.github.com/users/python/events{/privacy}', 'received_events_url': 'https://api.github.com/users/python/received_events', 'type': 'Organization', 'site_admin': False}, 'network_count': 29210, 'subscribers_count': 1516}\n"
          ]
        }
      ]
    },
    {
      "cell_type": "code",
      "source": [
        "#df = pd.json_normalize(response.json())\n",
        "#print(df)"
      ],
      "metadata": {
        "id": "ehnem-T869LF"
      },
      "execution_count": 16,
      "outputs": []
    },
    {
      "cell_type": "code",
      "source": [],
      "metadata": {
        "id": "JIp2ocyr8f4z"
      },
      "execution_count": null,
      "outputs": []
    },
    {
      "cell_type": "code",
      "source": [
        "# Mostrar información específica del repositorio\n",
        "print(f\"Repository: {data['name']}\")\n",
        "print(f\"Description: {data['description']}\")\n",
        "print(f\"Stars: {data['stargazers_count']}\")\n",
        "print(f\"Forks: {data['forks_count']}\")"
      ],
      "metadata": {
        "colab": {
          "base_uri": "https://localhost:8080/"
        },
        "id": "aMMYaasPtyYv",
        "outputId": "a962dc09-74a3-42fe-8673-a4eaa97805fd"
      },
      "execution_count": 4,
      "outputs": [
        {
          "output_type": "stream",
          "name": "stdout",
          "text": [
            "Repository: cpython\n",
            "Description: The Python programming language\n",
            "Stars: 60421\n",
            "Forks: 29210\n"
          ]
        }
      ]
    }
  ]
}