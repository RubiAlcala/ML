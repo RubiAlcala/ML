{
  "nbformat": 4,
  "nbformat_minor": 0,
  "metadata": {
    "colab": {
      "provenance": []
    },
    "kernelspec": {
      "name": "python3",
      "display_name": "Python 3"
    },
    "language_info": {
      "name": "python"
    }
  },
  "cells": [
    {
      "cell_type": "code",
      "execution_count": 2,
      "metadata": {
        "id": "pugRPCgFdZcA"
      },
      "outputs": [],
      "source": [
        "import pandas as pd\n",
        "import numpy as np"
      ]
    },
    {
      "cell_type": "code",
      "source": [
        "# 1. Load the Dataset\n",
        "df = pd.read_csv('/content/drive/MyDrive/Fotos/cars.csv')\n",
        "\n",
        "# 2. Inspect the Dataset\n",
        "print(df.head())\n",
        "print(df.dtypes)\n"
      ],
      "metadata": {
        "colab": {
          "base_uri": "https://localhost:8080/",
          "height": 0
        },
        "id": "cBxsI1_bddbv",
        "outputId": "c8121004-921e-421e-c462-9c889942da10"
      },
      "execution_count": 26,
      "outputs": [
        {
          "output_type": "stream",
          "name": "stdout",
          "text": [
            "          Unnamed: 0   mpg  cyl   disp     hp  drat     wt   qsec  vs  am  \\\n",
            "0          Mazda RX4  21.0    6  160.0  110.0  3.90  2.620  16.46   0   1   \n",
            "1      Mazda RX4 Wag  21.0    6  160.0    NaN  3.90  2.875  17.02   0   1   \n",
            "2         Datsun 710  22.8    4  108.0   93.0  3.85  2.320  18.61   1   1   \n",
            "3     Hornet 4 Drive  21.4    6  258.0  110.0  3.08  3.215  19.44   1   0   \n",
            "4  Hornet Sportabout  18.7    8  360.0  175.0  3.15  3.440  17.02   0   0   \n",
            "\n",
            "   gear  carb  \n",
            "0     4     4  \n",
            "1     4     4  \n",
            "2     4     1  \n",
            "3     3     1  \n",
            "4     3     2  \n",
            "Unnamed: 0     object\n",
            "mpg           float64\n",
            "cyl             int64\n",
            "disp          float64\n",
            "hp            float64\n",
            "drat          float64\n",
            "wt            float64\n",
            "qsec          float64\n",
            "vs              int64\n",
            "am              int64\n",
            "gear            int64\n",
            "carb            int64\n",
            "dtype: object\n"
          ]
        }
      ]
    },
    {
      "cell_type": "code",
      "source": [
        "# para saber cuantos valores nulos hay\n",
        "a = df.isnull().sum()\n",
        "print(a)"
      ],
      "metadata": {
        "colab": {
          "base_uri": "https://localhost:8080/",
          "height": 0
        },
        "id": "5jEWYJxvomE9",
        "outputId": "27403889-63b7-4512-c51d-bc5fea196b25"
      },
      "execution_count": 27,
      "outputs": [
        {
          "output_type": "stream",
          "name": "stdout",
          "text": [
            "Unnamed: 0    0\n",
            "mpg           0\n",
            "cyl           0\n",
            "disp          0\n",
            "hp            5\n",
            "drat          0\n",
            "wt            0\n",
            "qsec          0\n",
            "vs            0\n",
            "am            0\n",
            "gear          0\n",
            "carb          0\n",
            "dtype: int64\n"
          ]
        }
      ]
    },
    {
      "cell_type": "code",
      "source": [
        "# 3. Handle Missing Values\n",
        "df['hp'].fillna(df['hp'].mean(), inplace=True)\n",
        "df.dropna(subset=['hp'], inplace=True)"
      ],
      "metadata": {
        "id": "XLbFXJ_nq-uF"
      },
      "execution_count": 28,
      "outputs": []
    },
    {
      "cell_type": "code",
      "source": [
        "print(df.info())\n"
      ],
      "metadata": {
        "colab": {
          "base_uri": "https://localhost:8080/",
          "height": 0
        },
        "id": "lSgCRGZ4rBAF",
        "outputId": "24bb0eb9-cf85-4e3d-d46d-bdc4e48ea9cc"
      },
      "execution_count": 29,
      "outputs": [
        {
          "output_type": "stream",
          "name": "stdout",
          "text": [
            "<class 'pandas.core.frame.DataFrame'>\n",
            "RangeIndex: 32 entries, 0 to 31\n",
            "Data columns (total 12 columns):\n",
            " #   Column      Non-Null Count  Dtype  \n",
            "---  ------      --------------  -----  \n",
            " 0   Unnamed: 0  32 non-null     object \n",
            " 1   mpg         32 non-null     float64\n",
            " 2   cyl         32 non-null     int64  \n",
            " 3   disp        32 non-null     float64\n",
            " 4   hp          32 non-null     float64\n",
            " 5   drat        32 non-null     float64\n",
            " 6   wt          32 non-null     float64\n",
            " 7   qsec        32 non-null     float64\n",
            " 8   vs          32 non-null     int64  \n",
            " 9   am          32 non-null     int64  \n",
            " 10  gear        32 non-null     int64  \n",
            " 11  carb        32 non-null     int64  \n",
            "dtypes: float64(6), int64(5), object(1)\n",
            "memory usage: 3.1+ KB\n",
            "None\n"
          ]
        }
      ]
    },
    {
      "cell_type": "code",
      "source": [
        "\n",
        "# 4. Filter Data\n",
        "df_filtered = df[df['cyl'] == 6]\n",
        "print(df_filtered)\n"
      ],
      "metadata": {
        "colab": {
          "base_uri": "https://localhost:8080/",
          "height": 0
        },
        "id": "kt8wCuNreISG",
        "outputId": "b2c48c9c-4788-4552-ed7d-076c946f5789"
      },
      "execution_count": 30,
      "outputs": [
        {
          "output_type": "stream",
          "name": "stdout",
          "text": [
            "        Unnamed: 0   mpg  cyl   disp          hp  drat     wt   qsec  vs  am  \\\n",
            "0        Mazda RX4  21.0    6  160.0  110.000000  3.90  2.620  16.46   0   1   \n",
            "1    Mazda RX4 Wag  21.0    6  160.0  151.074074  3.90  2.875  17.02   0   1   \n",
            "3   Hornet 4 Drive  21.4    6  258.0  110.000000  3.08  3.215  19.44   1   0   \n",
            "5          Valiant  18.1    6  225.0  105.000000  2.76  3.460  20.22   1   0   \n",
            "9         Merc 280  19.2    6  167.6  123.000000  3.92  3.440  18.30   1   0   \n",
            "10       Merc 280C  17.8    6  167.6  123.000000  3.92  3.440  18.90   1   0   \n",
            "29    Ferrari Dino  19.7    6  145.0  175.000000  3.62  2.770  15.50   0   1   \n",
            "\n",
            "    gear  carb  \n",
            "0      4     4  \n",
            "1      4     4  \n",
            "3      3     1  \n",
            "5      3     1  \n",
            "9      4     4  \n",
            "10     4     4  \n",
            "29     5     6  \n"
          ]
        }
      ]
    },
    {
      "cell_type": "code",
      "source": [
        "# 5. Transform Columns\n",
        "def categorize_hp(hp):\n",
        "    if hp > 150:\n",
        "        return 'High'\n",
        "    elif hp > 80:\n",
        "        return 'Medium'\n",
        "    else:\n",
        "        return 'Low'\n",
        "\n",
        "df_filtered['HP_Category'] = df_filtered['hp'].apply(categorize_hp)\n",
        "\n"
      ],
      "metadata": {
        "colab": {
          "base_uri": "https://localhost:8080/",
          "height": 0
        },
        "id": "hEUX3zsceLMW",
        "outputId": "5cbee8b2-4dc8-4cc8-804d-1eeb562c4d3a"
      },
      "execution_count": 33,
      "outputs": [
        {
          "output_type": "stream",
          "name": "stderr",
          "text": [
            "<ipython-input-33-5531d2a34ef2>:10: SettingWithCopyWarning: \n",
            "A value is trying to be set on a copy of a slice from a DataFrame.\n",
            "Try using .loc[row_indexer,col_indexer] = value instead\n",
            "\n",
            "See the caveats in the documentation: https://pandas.pydata.org/pandas-docs/stable/user_guide/indexing.html#returning-a-view-versus-a-copy\n",
            "  df_filtered['HP_Category'] = df_filtered['hp'].apply(categorize_hp)\n"
          ]
        }
      ]
    },
    {
      "cell_type": "code",
      "source": [
        "print(df_filtered)"
      ],
      "metadata": {
        "colab": {
          "base_uri": "https://localhost:8080/",
          "height": 0
        },
        "id": "1CMOmNoBsCY5",
        "outputId": "25e7ff17-d149-4ffa-d8b9-c32591e251dc"
      },
      "execution_count": 34,
      "outputs": [
        {
          "output_type": "stream",
          "name": "stdout",
          "text": [
            "        Unnamed: 0   mpg  cyl   disp          hp  drat     wt   qsec  vs  am  \\\n",
            "0        Mazda RX4  21.0    6  160.0  110.000000  3.90  2.620  16.46   0   1   \n",
            "1    Mazda RX4 Wag  21.0    6  160.0  151.074074  3.90  2.875  17.02   0   1   \n",
            "3   Hornet 4 Drive  21.4    6  258.0  110.000000  3.08  3.215  19.44   1   0   \n",
            "5          Valiant  18.1    6  225.0  105.000000  2.76  3.460  20.22   1   0   \n",
            "9         Merc 280  19.2    6  167.6  123.000000  3.92  3.440  18.30   1   0   \n",
            "10       Merc 280C  17.8    6  167.6  123.000000  3.92  3.440  18.90   1   0   \n",
            "29    Ferrari Dino  19.7    6  145.0  175.000000  3.62  2.770  15.50   0   1   \n",
            "\n",
            "    gear  carb HP_Category  \n",
            "0      4     4      Medium  \n",
            "1      4     4        High  \n",
            "3      3     1      Medium  \n",
            "5      3     1      Medium  \n",
            "9      4     4      Medium  \n",
            "10     4     4      Medium  \n",
            "29     5     6        High  \n"
          ]
        }
      ]
    },
    {
      "cell_type": "code",
      "source": [
        "# 6. Save the Cleaned Dataset\n",
        "df_filtered.to_csv('.\\dataset\\cleaned_cars_dataset.csv', index=False)\n",
        "\n",
        "print(\"Data cleaning and preparation complete. The cleaned dataset is saved as 'cleaned_cars_dataset.csv'.\")"
      ],
      "metadata": {
        "colab": {
          "base_uri": "https://localhost:8080/",
          "height": 0
        },
        "id": "XmzRMAOzocgD",
        "outputId": "9cfd6277-fa7a-4390-b131-04aef0d0c403"
      },
      "execution_count": 35,
      "outputs": [
        {
          "output_type": "stream",
          "name": "stdout",
          "text": [
            "Data cleaning and preparation complete. The cleaned dataset is saved as 'cleaned_cars_dataset.csv'.\n"
          ]
        }
      ]
    }
  ]
}